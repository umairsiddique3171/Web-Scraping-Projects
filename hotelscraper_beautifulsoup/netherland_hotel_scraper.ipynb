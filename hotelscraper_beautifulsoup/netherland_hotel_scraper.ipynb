{
 "cells": [
  {
   "cell_type": "markdown",
   "id": "7c58508a",
   "metadata": {},
   "source": [
    "### importing essential libraries"
   ]
  },
  {
   "cell_type": "code",
   "execution_count": 1,
   "id": "36eb5a67",
   "metadata": {},
   "outputs": [],
   "source": [
    "from bs4 import BeautifulSoup\n",
    "import requests\n",
    "import pandas as pd\n",
    "import numpy as np"
   ]
  },
  {
   "cell_type": "code",
   "execution_count": null,
   "id": "0552d44d",
   "metadata": {},
   "outputs": [],
   "source": []
  },
  {
   "cell_type": "code",
   "execution_count": null,
   "id": "a530a288",
   "metadata": {},
   "outputs": [],
   "source": []
  },
  {
   "cell_type": "markdown",
   "id": "3383c435",
   "metadata": {},
   "source": [
    "### main page url"
   ]
  },
  {
   "cell_type": "code",
   "execution_count": 2,
   "id": "bb7c7bf6",
   "metadata": {},
   "outputs": [],
   "source": [
    "url = \"https://www.booking.com/city/nl/amsterdam.html?aid=306395&label=nl-kuqoEcU6c_NqQLhvY8YAGwS151853408337%3Apl%3Ata%3Ap1%3Ap2%3Aac%3Aap%3Aneg%3Afi%3Atikwd-298354739691%3Alp9076916%3Ali%3Adec%3Adm%3Appccp%3DUmFuZG9tSVYkc2RlIyh9YZVcNNsENnH02-pWD53qm9c&sid=78edbdc975c2bacefb3bd3150d9c346c\""
   ]
  },
  {
   "cell_type": "code",
   "execution_count": 3,
   "id": "6b141f5c",
   "metadata": {},
   "outputs": [],
   "source": [
    "page = requests.get(url)"
   ]
  },
  {
   "cell_type": "code",
   "execution_count": 4,
   "id": "19214c27",
   "metadata": {},
   "outputs": [
    {
     "data": {
      "text/plain": [
       "<Response [200]>"
      ]
     },
     "execution_count": 4,
     "metadata": {},
     "output_type": "execute_result"
    }
   ],
   "source": [
    "page"
   ]
  },
  {
   "cell_type": "code",
   "execution_count": 5,
   "id": "2d83bac7",
   "metadata": {},
   "outputs": [],
   "source": [
    "soup = BeautifulSoup(page.text,'html')"
   ]
  },
  {
   "cell_type": "code",
   "execution_count": null,
   "id": "444010ba",
   "metadata": {},
   "outputs": [],
   "source": []
  },
  {
   "cell_type": "code",
   "execution_count": null,
   "id": "61c8127b",
   "metadata": {},
   "outputs": [],
   "source": []
  },
  {
   "cell_type": "markdown",
   "id": "568951d8",
   "metadata": {},
   "source": [
    "### extracting every hotel hyperlink"
   ]
  },
  {
   "cell_type": "code",
   "execution_count": 6,
   "id": "10bc350e",
   "metadata": {},
   "outputs": [],
   "source": [
    "table = soup.find('div', attrs = {\"data-et-view\" : \"OATBaQJbVTbZXWSYHCSdUWAUC:1\"})"
   ]
  },
  {
   "cell_type": "code",
   "execution_count": 7,
   "id": "0c1b45c8",
   "metadata": {},
   "outputs": [],
   "source": [
    "every_hotel = table.find_all('a',attrs = {\"data-et-click\" : \"customGoal:OATBaQJbVTbZXWSYHCSdUWAUC:2\"})"
   ]
  },
  {
   "cell_type": "code",
   "execution_count": 8,
   "id": "15500382",
   "metadata": {},
   "outputs": [],
   "source": [
    "every_hotel_link = [('https://www.booking.com' + x.get('href')) for x in every_hotel]"
   ]
  },
  {
   "cell_type": "code",
   "execution_count": 9,
   "id": "1dd6934e",
   "metadata": {},
   "outputs": [
    {
     "data": {
      "text/plain": [
       "['https://www.booking.com/hotel/nl/park-inn-by-radisson-amsterdam-city-west.html',\n",
       " 'https://www.booking.com/hotel/nl/room-mate-aitana.html',\n",
       " 'https://www.booking.com/hotel/nl/nhghkrasnapolsky.html',\n",
       " 'https://www.booking.com/hotel/nl/radissonamsterdam.html',\n",
       " 'https://www.booking.com/hotel/nl/victoria.html',\n",
       " 'https://www.booking.com/hotel/nl/ibiscentre.html',\n",
       " 'https://www.booking.com/hotel/nl/eden-hotel-amsterdam.html',\n",
       " 'https://www.booking.com/hotel/nl/jollycarlton.html',\n",
       " 'https://www.booking.com/hotel/nl/joy.html',\n",
       " 'https://www.booking.com/hotel/nl/holiday-inn-express-amsterdam-arena-towers.html']"
      ]
     },
     "execution_count": 9,
     "metadata": {},
     "output_type": "execute_result"
    }
   ],
   "source": [
    "every_hotel_link"
   ]
  },
  {
   "cell_type": "code",
   "execution_count": null,
   "id": "26283862",
   "metadata": {},
   "outputs": [],
   "source": []
  },
  {
   "cell_type": "code",
   "execution_count": null,
   "id": "aba47f16",
   "metadata": {},
   "outputs": [],
   "source": []
  },
  {
   "cell_type": "markdown",
   "id": "f8f6aea9",
   "metadata": {},
   "source": [
    "### scraping every hotel data, which includes it's name, address, and facilities"
   ]
  },
  {
   "cell_type": "code",
   "execution_count": 10,
   "id": "c87e4e94",
   "metadata": {},
   "outputs": [
    {
     "name": "stdout",
     "output_type": "stream",
     "text": [
      "<Response [200]>\n",
      "\n",
      "<Response [200]>\n",
      "\n",
      "<Response [200]>\n",
      "\n",
      "<Response [200]>\n",
      "\n",
      "<Response [200]>\n",
      "\n",
      "<Response [200]>\n",
      "\n",
      "<Response [200]>\n",
      "\n",
      "<Response [200]>\n",
      "\n",
      "<Response [200]>\n",
      "9 regular facilities not found\n",
      "\n",
      "<Response [200]>\n",
      "\n"
     ]
    }
   ],
   "source": [
    "data = []\n",
    "count = 1\n",
    "for x in every_hotel_link:\n",
    "    missing = False # will check and help in dropping the record which have missing values\n",
    "    \n",
    "    hotel_data = [] # contain the data of current hotel in iteration\n",
    "    \n",
    "    url = x\n",
    "    page = requests.get(url)\n",
    "    print(page)\n",
    "    soup = BeautifulSoup(page.text,'html')\n",
    "    \n",
    "    hotel_data.append(soup.find('h2',class_ = 'd2fee87262 pp-header__title').text.strip()) # hotel name\n",
    "    \n",
    "    x = soup.find('p',class_ = 'address address_clean').text.strip() # hotel address\n",
    "    hotel_data.append(x.split('\\n')[0])\n",
    "    \n",
    "    x = soup.find('ul',class_ = \"aca0ade214 aaf30230d9 c2931f4182 e7d9f93f4d ed5cdd3fb3 fb5b81c565\") # extracting regular facilities\n",
    "    if x is not None: \n",
    "        y = [a.text for a in x.find_all('div',class_ = \"aca0ade214 aaf30230d9 cd2e7d62b0\")]\n",
    "        hotel_data.append(','.join(y))\n",
    "    else : \n",
    "        print(f'{count} regular facilities not found')\n",
    "        missing = True\n",
    "    \n",
    "    x = soup.find('ul',class_ = 'c807d72881 d1a624a1cc e10711a42e') # extracting popular facilities\n",
    "    if x is not None:\n",
    "        y = [a.text for a in x.find_all('span',class_ = 'a5a5a75131')]\n",
    "        hotel_data.append(','.join(y))\n",
    "    else  :\n",
    "        print(f'{count} popular facilities not found')\n",
    "        missing = True\n",
    "        \n",
    "    if missing == False :\n",
    "        data.append(hotel_data)\n",
    "        \n",
    "        \n",
    "    count += 1\n",
    "    print('')"
   ]
  },
  {
   "cell_type": "code",
   "execution_count": 11,
   "id": "79288a41",
   "metadata": {},
   "outputs": [
    {
     "data": {
      "text/plain": [
       "[['Park Inn by Radisson Amsterdam City West',\n",
       "  'La Guardiaweg 59, Westpoort, 1043 DE Amsterdam, Netherlands',\n",
       "  'City view,Garden,Free WiFi,Bathtub,Air conditioning,24-hour front desk,Key card access,Daily housekeeping,Non-smoking rooms,Baggage storage',\n",
       "  'Private Parking,Free WiFi,Family rooms,Non-smoking rooms,Fitness center,Restaurant,Facilities for disabled guests,Tea/Coffee Maker in All Rooms,Bar,Very Good Breakfast'],\n",
       " ['Room Mate Aitana',\n",
       "  'IJdock 6, Amsterdam City Center, 1013 MM Amsterdam, Netherlands',\n",
       "  'City view,Free WiFi,Bathtub,Air conditioning,24-hour front desk,Key card access,Daily housekeeping,Non-smoking rooms,Safe,Baggage storage',\n",
       "  'Parking on site,Free WiFi,Family rooms,Non-smoking rooms,Fitness center,Restaurant,Room service,Tea/Coffee Maker in All Rooms,Bar,Very Good Breakfast'],\n",
       " ['Anantara Grand Hotel Krasnapolsky Amsterdam',\n",
       "  'Dam 9, Amsterdam City Center, 1012 JS Amsterdam, Netherlands',\n",
       "  'City view,Pet friendly,Free WiFi,Terrace,Balcony,Air conditioning,Private Bathroom,24-hour front desk,Key card access,Daily housekeeping',\n",
       "  'Private Parking,Free WiFi,Spa,Family rooms,Non-smoking rooms,Fitness center,2 restaurants,Room service,Bar,Excellent Breakfast'],\n",
       " ['Radisson Blu Hotel, Amsterdam City Center',\n",
       "  'Rusland 17, Amsterdam City Center, 1012 CK Amsterdam, Netherlands',\n",
       "  'City view,Free WiFi,Terrace,Balcony,Bathtub,Air conditioning,Sauna,24-hour front desk,Key card access,Daily housekeeping',\n",
       "  'Private Parking,Free WiFi,Family rooms,Non-smoking rooms,Fitness center,Restaurant,Room service,Tea/Coffee Maker in All Rooms,Bar,Very Good Breakfast'],\n",
       " ['Park Plaza Victoria Amsterdam',\n",
       "  'Damrak 1 - 5, Amsterdam City Center, 1012 LG Amsterdam, Netherlands',\n",
       "  'City view,Indoor swimming pool,Free WiFi,Bathtub,Air conditioning,24-hour front desk,Key card access,Non-smoking rooms,Safe,Baggage storage',\n",
       "  'Indoor swimming pool,Parking,Free WiFi,Family rooms,Non-smoking rooms,Fitness center,Restaurant,Room service,Bar,Very Good Breakfast'],\n",
       " ['ibis Amsterdam Centre',\n",
       "  'Stationsplein 49, Amsterdam City Center, 1012 AB Amsterdam, Netherlands',\n",
       "  'River view,Pet friendly,Free WiFi,Private Bathroom,24-hour front desk,Key card access,Daily housekeeping,Non-smoking rooms,Safe,Heating',\n",
       "  'Free WiFi,Family rooms,Non-smoking rooms,Restaurant,Facilities for disabled guests,24-hour front desk,Bar,Elevator,Heating,Good Breakfast'],\n",
       " ['Eden Hotel Amsterdam',\n",
       "  'Amstel 144, Amsterdam City Center, 1017 DA Amsterdam, Netherlands',\n",
       "  'City view,Free WiFi,Bathtub,Air conditioning,24-hour front desk,Key card access,Daily housekeeping,Non-smoking rooms,Safe,Baggage storage',\n",
       "  'Parking,Free WiFi,Family rooms,Non-smoking rooms,Facilities for disabled guests,24-hour front desk,Elevator,Heating,Tea/Coffee Maker in All Rooms,Very Good Breakfast'],\n",
       " ['NH Collection Amsterdam Flower Market',\n",
       "  'Vijzelstraat 4, Amsterdam City Center, 1017 HK Amsterdam, Netherlands',\n",
       "  'City view,Pet friendly,Free WiFi,Balcony,Bathtub,Air conditioning,24-hour front desk,Key card access,Daily housekeeping,Non-smoking rooms',\n",
       "  'Free WiFi,Family rooms,Non-smoking rooms,Fitness center,Restaurant,Room service,Facilities for disabled guests,24-hour front desk,Bar,Excellent Breakfast'],\n",
       " ['Holiday Inn Express Amsterdam Arena Towers, an IHG Hotel',\n",
       "  'Hoogoorddreef 66, Zuidoost, 1101 BE Amsterdam, Netherlands',\n",
       "  'View,Free WiFi,Air conditioning,Private Bathroom,24-hour front desk,Non-smoking rooms,Safe,Baggage storage,Heating,Elevator',\n",
       "  'Private Parking,Free WiFi,Non-smoking rooms,Restaurant,Facilities for disabled guests,24-hour front desk,Bar,Elevator,Tea/Coffee Maker in All Rooms,Good Breakfast']]"
      ]
     },
     "execution_count": 11,
     "metadata": {},
     "output_type": "execute_result"
    }
   ],
   "source": [
    "data"
   ]
  },
  {
   "cell_type": "code",
   "execution_count": null,
   "id": "850f6613",
   "metadata": {},
   "outputs": [],
   "source": []
  },
  {
   "cell_type": "code",
   "execution_count": null,
   "id": "7878c607",
   "metadata": {},
   "outputs": [],
   "source": []
  },
  {
   "cell_type": "markdown",
   "id": "e3cc3fe2",
   "metadata": {},
   "source": [
    "### converting data into numpy array"
   ]
  },
  {
   "cell_type": "code",
   "execution_count": 12,
   "id": "d184a53a",
   "metadata": {},
   "outputs": [],
   "source": [
    "data = np.array(data)"
   ]
  },
  {
   "cell_type": "code",
   "execution_count": 13,
   "id": "00a340cc",
   "metadata": {},
   "outputs": [
    {
     "data": {
      "text/plain": [
       "(9, 4)"
      ]
     },
     "execution_count": 13,
     "metadata": {},
     "output_type": "execute_result"
    }
   ],
   "source": [
    "data.shape"
   ]
  },
  {
   "cell_type": "code",
   "execution_count": null,
   "id": "cd0f1cfd",
   "metadata": {},
   "outputs": [],
   "source": []
  },
  {
   "cell_type": "code",
   "execution_count": null,
   "id": "3b365330",
   "metadata": {},
   "outputs": [],
   "source": []
  },
  {
   "cell_type": "markdown",
   "id": "abaca80b",
   "metadata": {},
   "source": [
    "### converting array into dataframe"
   ]
  },
  {
   "cell_type": "code",
   "execution_count": 14,
   "id": "fa31aa7c",
   "metadata": {},
   "outputs": [],
   "source": [
    "df = pd.DataFrame(data,columns = ['Hotel_Name','Hotel_Address','Regular_Facilities','Popular_Facilities'])"
   ]
  },
  {
   "cell_type": "code",
   "execution_count": 15,
   "id": "9fa706e6",
   "metadata": {},
   "outputs": [
    {
     "data": {
      "text/html": [
       "<div>\n",
       "<style scoped>\n",
       "    .dataframe tbody tr th:only-of-type {\n",
       "        vertical-align: middle;\n",
       "    }\n",
       "\n",
       "    .dataframe tbody tr th {\n",
       "        vertical-align: top;\n",
       "    }\n",
       "\n",
       "    .dataframe thead th {\n",
       "        text-align: right;\n",
       "    }\n",
       "</style>\n",
       "<table border=\"1\" class=\"dataframe\">\n",
       "  <thead>\n",
       "    <tr style=\"text-align: right;\">\n",
       "      <th></th>\n",
       "      <th>Hotel_Name</th>\n",
       "      <th>Hotel_Address</th>\n",
       "      <th>Regular_Facilities</th>\n",
       "      <th>Popular_Facilities</th>\n",
       "    </tr>\n",
       "  </thead>\n",
       "  <tbody>\n",
       "    <tr>\n",
       "      <th>0</th>\n",
       "      <td>Park Inn by Radisson Amsterdam City West</td>\n",
       "      <td>La Guardiaweg 59, Westpoort, 1043 DE Amsterdam...</td>\n",
       "      <td>City view,Garden,Free WiFi,Bathtub,Air conditi...</td>\n",
       "      <td>Private Parking,Free WiFi,Family rooms,Non-smo...</td>\n",
       "    </tr>\n",
       "    <tr>\n",
       "      <th>1</th>\n",
       "      <td>Room Mate Aitana</td>\n",
       "      <td>IJdock 6, Amsterdam City Center, 1013 MM Amste...</td>\n",
       "      <td>City view,Free WiFi,Bathtub,Air conditioning,2...</td>\n",
       "      <td>Parking on site,Free WiFi,Family rooms,Non-smo...</td>\n",
       "    </tr>\n",
       "    <tr>\n",
       "      <th>2</th>\n",
       "      <td>Anantara Grand Hotel Krasnapolsky Amsterdam</td>\n",
       "      <td>Dam 9, Amsterdam City Center, 1012 JS Amsterda...</td>\n",
       "      <td>City view,Pet friendly,Free WiFi,Terrace,Balco...</td>\n",
       "      <td>Private Parking,Free WiFi,Spa,Family rooms,Non...</td>\n",
       "    </tr>\n",
       "    <tr>\n",
       "      <th>3</th>\n",
       "      <td>Radisson Blu Hotel, Amsterdam City Center</td>\n",
       "      <td>Rusland 17, Amsterdam City Center, 1012 CK Ams...</td>\n",
       "      <td>City view,Free WiFi,Terrace,Balcony,Bathtub,Ai...</td>\n",
       "      <td>Private Parking,Free WiFi,Family rooms,Non-smo...</td>\n",
       "    </tr>\n",
       "    <tr>\n",
       "      <th>4</th>\n",
       "      <td>Park Plaza Victoria Amsterdam</td>\n",
       "      <td>Damrak 1 - 5, Amsterdam City Center, 1012 LG A...</td>\n",
       "      <td>City view,Indoor swimming pool,Free WiFi,Batht...</td>\n",
       "      <td>Indoor swimming pool,Parking,Free WiFi,Family ...</td>\n",
       "    </tr>\n",
       "    <tr>\n",
       "      <th>5</th>\n",
       "      <td>ibis Amsterdam Centre</td>\n",
       "      <td>Stationsplein 49, Amsterdam City Center, 1012 ...</td>\n",
       "      <td>River view,Pet friendly,Free WiFi,Private Bath...</td>\n",
       "      <td>Free WiFi,Family rooms,Non-smoking rooms,Resta...</td>\n",
       "    </tr>\n",
       "    <tr>\n",
       "      <th>6</th>\n",
       "      <td>Eden Hotel Amsterdam</td>\n",
       "      <td>Amstel 144, Amsterdam City Center, 1017 DA Ams...</td>\n",
       "      <td>City view,Free WiFi,Bathtub,Air conditioning,2...</td>\n",
       "      <td>Parking,Free WiFi,Family rooms,Non-smoking roo...</td>\n",
       "    </tr>\n",
       "    <tr>\n",
       "      <th>7</th>\n",
       "      <td>NH Collection Amsterdam Flower Market</td>\n",
       "      <td>Vijzelstraat 4, Amsterdam City Center, 1017 HK...</td>\n",
       "      <td>City view,Pet friendly,Free WiFi,Balcony,Batht...</td>\n",
       "      <td>Free WiFi,Family rooms,Non-smoking rooms,Fitne...</td>\n",
       "    </tr>\n",
       "    <tr>\n",
       "      <th>8</th>\n",
       "      <td>Holiday Inn Express Amsterdam Arena Towers, an...</td>\n",
       "      <td>Hoogoorddreef 66, Zuidoost, 1101 BE Amsterdam,...</td>\n",
       "      <td>View,Free WiFi,Air conditioning,Private Bathro...</td>\n",
       "      <td>Private Parking,Free WiFi,Non-smoking rooms,Re...</td>\n",
       "    </tr>\n",
       "  </tbody>\n",
       "</table>\n",
       "</div>"
      ],
      "text/plain": [
       "                                          Hotel_Name  \\\n",
       "0           Park Inn by Radisson Amsterdam City West   \n",
       "1                                   Room Mate Aitana   \n",
       "2        Anantara Grand Hotel Krasnapolsky Amsterdam   \n",
       "3          Radisson Blu Hotel, Amsterdam City Center   \n",
       "4                      Park Plaza Victoria Amsterdam   \n",
       "5                              ibis Amsterdam Centre   \n",
       "6                               Eden Hotel Amsterdam   \n",
       "7              NH Collection Amsterdam Flower Market   \n",
       "8  Holiday Inn Express Amsterdam Arena Towers, an...   \n",
       "\n",
       "                                       Hotel_Address  \\\n",
       "0  La Guardiaweg 59, Westpoort, 1043 DE Amsterdam...   \n",
       "1  IJdock 6, Amsterdam City Center, 1013 MM Amste...   \n",
       "2  Dam 9, Amsterdam City Center, 1012 JS Amsterda...   \n",
       "3  Rusland 17, Amsterdam City Center, 1012 CK Ams...   \n",
       "4  Damrak 1 - 5, Amsterdam City Center, 1012 LG A...   \n",
       "5  Stationsplein 49, Amsterdam City Center, 1012 ...   \n",
       "6  Amstel 144, Amsterdam City Center, 1017 DA Ams...   \n",
       "7  Vijzelstraat 4, Amsterdam City Center, 1017 HK...   \n",
       "8  Hoogoorddreef 66, Zuidoost, 1101 BE Amsterdam,...   \n",
       "\n",
       "                                  Regular_Facilities  \\\n",
       "0  City view,Garden,Free WiFi,Bathtub,Air conditi...   \n",
       "1  City view,Free WiFi,Bathtub,Air conditioning,2...   \n",
       "2  City view,Pet friendly,Free WiFi,Terrace,Balco...   \n",
       "3  City view,Free WiFi,Terrace,Balcony,Bathtub,Ai...   \n",
       "4  City view,Indoor swimming pool,Free WiFi,Batht...   \n",
       "5  River view,Pet friendly,Free WiFi,Private Bath...   \n",
       "6  City view,Free WiFi,Bathtub,Air conditioning,2...   \n",
       "7  City view,Pet friendly,Free WiFi,Balcony,Batht...   \n",
       "8  View,Free WiFi,Air conditioning,Private Bathro...   \n",
       "\n",
       "                                  Popular_Facilities  \n",
       "0  Private Parking,Free WiFi,Family rooms,Non-smo...  \n",
       "1  Parking on site,Free WiFi,Family rooms,Non-smo...  \n",
       "2  Private Parking,Free WiFi,Spa,Family rooms,Non...  \n",
       "3  Private Parking,Free WiFi,Family rooms,Non-smo...  \n",
       "4  Indoor swimming pool,Parking,Free WiFi,Family ...  \n",
       "5  Free WiFi,Family rooms,Non-smoking rooms,Resta...  \n",
       "6  Parking,Free WiFi,Family rooms,Non-smoking roo...  \n",
       "7  Free WiFi,Family rooms,Non-smoking rooms,Fitne...  \n",
       "8  Private Parking,Free WiFi,Non-smoking rooms,Re...  "
      ]
     },
     "execution_count": 15,
     "metadata": {},
     "output_type": "execute_result"
    }
   ],
   "source": [
    "df"
   ]
  },
  {
   "cell_type": "code",
   "execution_count": null,
   "id": "e4b7e215",
   "metadata": {},
   "outputs": [],
   "source": []
  },
  {
   "cell_type": "code",
   "execution_count": null,
   "id": "d67bf61c",
   "metadata": {},
   "outputs": [],
   "source": []
  },
  {
   "cell_type": "markdown",
   "id": "410963d2",
   "metadata": {},
   "source": [
    "### saving dataframe as csv file"
   ]
  },
  {
   "cell_type": "code",
   "execution_count": 17,
   "id": "b52e0780",
   "metadata": {},
   "outputs": [],
   "source": [
    "df.to_csv('hotel_scrap.csv',index = False)"
   ]
  },
  {
   "cell_type": "code",
   "execution_count": null,
   "id": "dab22db6",
   "metadata": {},
   "outputs": [],
   "source": []
  },
  {
   "cell_type": "code",
   "execution_count": null,
   "id": "d3c248d4",
   "metadata": {},
   "outputs": [],
   "source": []
  },
  {
   "cell_type": "code",
   "execution_count": null,
   "id": "a72b6cbe",
   "metadata": {},
   "outputs": [],
   "source": []
  }
 ],
 "metadata": {
  "kernelspec": {
   "display_name": "Python 3 (ipykernel)",
   "language": "python",
   "name": "python3"
  },
  "language_info": {
   "codemirror_mode": {
    "name": "ipython",
    "version": 3
   },
   "file_extension": ".py",
   "mimetype": "text/x-python",
   "name": "python",
   "nbconvert_exporter": "python",
   "pygments_lexer": "ipython3",
   "version": "3.11.5"
  }
 },
 "nbformat": 4,
 "nbformat_minor": 5
}
